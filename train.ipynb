{
 "cells": [
  {
   "cell_type": "markdown",
   "id": "7ad129c4-2555-43ef-bb7d-e662a3b21ac7",
   "metadata": {},
   "source": [
    "# Train Transformer Decoder\n",
    "This notebook trains the Transformer Decoder that will be used to generate text and embeds it in a GPT class. It is based on the [Neural Machine Translation with a Transformer and Keras](https://www.tensorflow.org/text/tutorials/transformer) tutorial by TensorFlow."
   ]
  },
  {
   "cell_type": "code",
   "execution_count": 1,
   "id": "04ff7984-9b6a-4d5c-be29-d3a1d98b6a61",
   "metadata": {},
   "outputs": [],
   "source": [
    "%load_ext autoreload\n",
    "%autoreload 2"
   ]
  },
  {
   "cell_type": "code",
   "execution_count": 2,
   "id": "a3c8cbed-61e2-47f1-875d-4297c70f652d",
   "metadata": {},
   "outputs": [],
   "source": [
    "import tensorflow as tf\n",
    "from tensorflow.keras import layers\n",
    "import tensorflow_text as text\n",
    "import pandas as pd\n",
    "import numpy as np\n",
    "from matplotlib import pyplot as plt"
   ]
  },
  {
   "cell_type": "code",
   "execution_count": 3,
   "id": "bb18a7ef-a158-409d-b7f5-82dd7451bbea",
   "metadata": {},
   "outputs": [],
   "source": [
    "import config"
   ]
  },
  {
   "cell_type": "markdown",
   "id": "3c2bd93f-5b72-47e9-9778-61810dfa34ce",
   "metadata": {},
   "source": [
    "## Dataset and tokenizers\n",
    "Load dataset and tokenizers, see the tokenization notebook for details. Plot the distribution of tokens per sentence."
   ]
  },
  {
   "cell_type": "code",
   "execution_count": 4,
   "id": "ebe6dcb9-b37f-43d7-98c9-70450353e81a",
   "metadata": {},
   "outputs": [],
   "source": [
    "train_dataset = tf.data.Dataset.load(config.TRAIN_DATA_PATH)\n",
    "val_dataset = tf.data.Dataset.load(config.VAL_DATA_PATH)\n",
    "tokenizers = tf.saved_model.load(config.TOKENIZER_PATH)"
   ]
  },
  {
   "cell_type": "code",
   "execution_count": 5,
   "id": "c9d88de9-acf8-4fbf-a59d-6d1e02843558",
   "metadata": {},
   "outputs": [],
   "source": [
    "lengths = []\n",
    "\n",
    "for batch in train_dataset.take(50_000).batch(1024):\n",
    "    eng_tokens = tokenizers.eng.tokenize(batch[:, 0])\n",
    "    lengths.append(eng_tokens.row_lengths())\n",
    "    nor_tokens = tokenizers.nor.tokenize(batch[:, 1])\n",
    "    lengths.append(nor_tokens.row_lengths())"
   ]
  },
  {
   "cell_type": "code",
   "execution_count": 6,
   "id": "c0b78837-cb37-406e-9523-0422095a46de",
   "metadata": {},
   "outputs": [
    {
     "data": {
      "image/png": "[encoded data removed]",
      "text/plain": [
       "<Figure size 640x480 with 1 Axes>"
      ]
     },
     "metadata": {},
     "output_type": "display_data"
    }
   ],
   "source": [
    "all_lengths = np.concatenate(lengths)\n",
    "\n",
    "plt.hist(all_lengths, np.linspace(0, 100, 51))\n",
    "plt.ylim(plt.ylim())\n",
    "max_length = max(all_lengths)\n",
    "plt.plot([max_length, max_length], plt.ylim())\n",
    "plt.title(f\"Maximum tokens per example: {max_length}\");"
   ]
  },
  {
   "cell_type": "markdown",
   "id": "5dd8b7e1-a32d-48c1-a706-2faa1635cc9b",
   "metadata": {},
   "source": [
    "## Batches\n",
    "Split the tokenized dataset into batches for model training."
   ]
  },
  {
   "cell_type": "code",
   "execution_count": 7,
   "id": "886d7564-07ad-4441-a4e8-3cc31a7fce80",
   "metadata": {},
   "outputs": [],
   "source": [
    "def prepare_batch(batch):\n",
    "    eng = batch[:, 0]\n",
    "    eng = tokenizers.eng.tokenize(eng)  # Output is ragged.\n",
    "    eng = eng[:, : config.MAX_TOKENS]  # Trim to MAX_TOKENS.\n",
    "    eng = eng.to_tensor()  # Convert to 0-padded dense Tensor\n",
    "\n",
    "    nor = batch[:, 1]\n",
    "    nor = tokenizers.nor.tokenize(nor)\n",
    "    nor = nor[:, : (config.MAX_TOKENS + 1)]\n",
    "    nor_inputs = nor[:, :-1].to_tensor()  # Drop the [END] tokens\n",
    "    nor_labels = nor[:, 1:].to_tensor()  # Drop the [START] tokens\n",
    "\n",
    "    return (eng, nor_inputs), nor_labels\n",
    "\n",
    "\n",
    "def make_batches(ds):\n",
    "    return (\n",
    "        ds.batch(config.BATCH_SIZE)\n",
    "        .map(prepare_batch, tf.data.AUTOTUNE)\n",
    "        .prefetch(buffer_size=tf.data.AUTOTUNE)\n",
    "    )"
   ]
  },
  {
   "cell_type": "code",
   "execution_count": 8,
   "id": "f820708c-d630-4eff-81f3-96efa74b6609",
   "metadata": {},
   "outputs": [],
   "source": [
    "val_batches = make_batches(val_dataset)\n",
    "train_batches = make_batches(train_dataset)"
   ]
  },
  {
   "cell_type": "markdown",
   "id": "6d45e19e-18fd-4648-a7b7-5ecea856c5f6",
   "metadata": {},
   "source": [
    "## Transformer\n",
    "Compile and train the Transformer model."
   ]
  },
  {
   "cell_type": "code",
   "execution_count": 9,
   "id": "cf2effac-97b6-4ced-9523-dbb0a28fb558",
   "metadata": {},
   "outputs": [],
   "source": [
    "from model import Transformer, masked_loss, masked_accuracy, CustomSchedule\n",
    "\n",
    "transformer = Transformer(\n",
    "    num_layers=config.N_LAYERS,\n",
    "    d_model=config.D_MODEL,\n",
    "    num_heads=config.N_HEADS,\n",
    "    dff=config.FFN_DIM,\n",
    "    input_vocab_size=config.VOCAB_SIZE,\n",
    "    target_vocab_size=config.VOCAB_SIZE,\n",
    "    dropout_rate=config.DROPOUT_RATE,\n",
    ")"
   ]
  },
  {
   "cell_type": "code",
   "execution_count": 10,
   "id": "93e6b12e-965e-478a-a599-ceb529257dc5",
   "metadata": {},
   "outputs": [
    {
     "name": "stdout",
     "output_type": "stream",
     "text": [
      "Model: \"transformer\"\n",
      "_________________________________________________________________\n",
      " Layer (type)                Output Shape              Param #   \n",
      "=================================================================\n",
      " encoder (Encoder)           multiple                  1308160   \n",
      "                                                                 \n",
      " decoder (Decoder)           multiple                  1839360   \n",
      "                                                                 \n",
      " dense_16 (Dense)            multiple                  520000    \n",
      "                                                                 \n",
      "=================================================================\n",
      "Total params: 3667520 (13.99 MB)\n",
      "Trainable params: 3667520 (13.99 MB)\n",
      "Non-trainable params: 0 (0.00 Byte)\n",
      "_________________________________________________________________\n"
     ]
    }
   ],
   "source": [
    "# Build the transformer by applying it to a sample\n",
    "for (eng, nor), nor_labels in train_batches.take(1):\n",
    "    break\n",
    "transformer((eng, nor))\n",
    "transformer.summary()"
   ]
  },
  {
   "cell_type": "code",
   "execution_count": 11,
   "id": "b173f19b-fea4-49f0-9a8a-e1903ffe1b8b",
   "metadata": {},
   "outputs": [],
   "source": [
    "from model import CustomSchedule\n",
    "\n",
    "learning_rate = CustomSchedule(config.D_MODEL)\n",
    "optimizer = tf.keras.optimizers.legacy.Adam(\n",
    "    learning_rate=learning_rate, **config.OPTIMIZER_KWARGS\n",
    ")"
   ]
  },
  {
   "cell_type": "code",
   "execution_count": 12,
   "id": "0597caf0-6ff3-4f81-b42c-8ee7cbe72dce",
   "metadata": {},
   "outputs": [
    {
     "data": {
      "text/plain": [
       "Text(0.5, 0, 'Train Step')"
      ]
     },
     "execution_count": 12,
     "metadata": {},
     "output_type": "execute_result"
    },
    {
     "data": {
      "image/png": "[encoded data removed]",
      "text/plain": [
       "<Figure size 640x480 with 1 Axes>"
      ]
     },
     "metadata": {},
     "output_type": "display_data"
    }
   ],
   "source": [
    "plt.plot(learning_rate(tf.range(40000, dtype=tf.float32)))\n",
    "plt.ylabel(\"Learning Rate\")\n",
    "plt.xlabel(\"Train Step\")"
   ]
  },
  {
   "cell_type": "code",
   "execution_count": 13,
   "id": "de8ecc35-a94e-477e-b8be-28186cce6353",
   "metadata": {},
   "outputs": [],
   "source": [
    "from model import masked_loss, masked_accuracy\n",
    "\n",
    "transformer.compile(\n",
    "    loss=masked_loss, optimizer=optimizer, metrics=[masked_accuracy]\n",
    ")"
   ]
  },
  {
   "cell_type": "code",
   "execution_count": 14,
   "id": "978477fb-1763-47cc-9037-1cad46f2d877",
   "metadata": {},
   "outputs": [
    {
     "name": "stdout",
     "output_type": "stream",
     "text": [
      "Epoch 1/5\n",
      "16000/16000 [==============================] - 35501s 2s/step - loss: 3.6395 - masked_accuracy: 0.4150 - val_loss: 2.3828 - val_masked_accuracy: 0.5790\n",
      "Epoch 2/5\n",
      "16000/16000 [==============================] - 24068s 2s/step - loss: 2.4672 - masked_accuracy: 0.5657 - val_loss: 2.1577 - val_masked_accuracy: 0.6162\n",
      "Epoch 3/5\n",
      "16000/16000 [==============================] - 9467s 592ms/step - loss: 2.3146 - masked_accuracy: 0.5901 - val_loss: 2.0655 - val_masked_accuracy: 0.6312\n",
      "Epoch 4/5\n",
      "16000/16000 [==============================] - 11329s 708ms/step - loss: 2.2370 - masked_accuracy: 0.6027 - val_loss: 2.0172 - val_masked_accuracy: 0.6395\n",
      "Epoch 5/5\n",
      "16000/16000 [==============================] - 11876s 742ms/step - loss: 2.1904 - masked_accuracy: 0.6104 - val_loss: 1.9786 - val_masked_accuracy: 0.6464\n"
     ]
    },
    {
     "data": {
      "text/plain": [
       "<keras.src.callbacks.History at 0x17d5e0a90>"
      ]
     },
     "execution_count": 14,
     "metadata": {},
     "output_type": "execute_result"
    }
   ],
   "source": [
    "transformer.fit(\n",
    "    train_batches, epochs=config.N_EPOCHS, validation_data=val_batches\n",
    ")"
   ]
  },
  {
   "cell_type": "markdown",
   "id": "50ccd2ce-5268-4013-9c0b-5f5980a308a8",
   "metadata": {},
   "source": [
    "## Translator\n",
    "Use the Transformer model and tokenizers in a translator."
   ]
  },
  {
   "cell_type": "code",
   "execution_count": 36,
   "id": "f9b73de4-1717-47fe-a628-41d450185475",
   "metadata": {},
   "outputs": [],
   "source": [
    "from model import Translator, ExportTranslator\n",
    "\n",
    "translator = Translator(tokenizers, transformer, max_length=config.MAX_TOKENS)\n",
    "translator = ExportTranslator(translator)"
   ]
  },
  {
   "cell_type": "code",
   "execution_count": 37,
   "id": "a26f04ac-8aae-4d6f-ae15-344ea814eba9",
   "metadata": {},
   "outputs": [],
   "source": [
    "def print_translation(sentence, tokens, ground_truth):\n",
    "    print(f'{\"Input:\":15s}: {sentence}')\n",
    "    print(f'{\"Prediction\":15s}: {tokens.numpy().decode(\"utf-8\")}')\n",
    "    print(f'{\"Ground truth\":15s}: {ground_truth}')"
   ]
  },
  {
   "cell_type": "code",
   "execution_count": 48,
   "id": "29a2dc40-5f33-42c7-973b-d61c982c1957",
   "metadata": {},
   "outputs": [
    {
     "name": "stdout",
     "output_type": "stream",
     "text": [
      "Input:         : i like trains .\n",
      "Prediction     : jeg liker tog .\n",
      "Ground truth   : jeg liker tog .\n",
      "\n",
      "Input:         : this is a problem we have to solve .\n",
      "Prediction     : dette er et problem vi må løses .\n",
      "Ground truth   : dette er et problem vi må løse .\n",
      "\n",
      "Input:         : let's travel to spain .\n",
      "Prediction     : la oss reise til spania .\n",
      "Ground truth   : la oss reise til spania .\n",
      "\n",
      "Input:         : my name is bond, james bond .\n",
      "Prediction     : navnet mitt er bond , james bond .\n",
      "Ground truth   : navnet mitt er bond, james bond .\n",
      "\n",
      "Input:         : never judge a book by its cover .\n",
      "Prediction     : aldri dommere en bok ved deres cover .\n",
      "Ground truth   : aldri døm en bok etter omslaget .\n",
      "\n",
      "Input:         : my husband and I are both engineers .\n",
      "Prediction     : min mann og jeg er begge ingeniører .\n",
      "Ground truth   : mannen min og jeg er begge ingeniører .\n",
      "\n",
      "Input:         : i left oklahoma five years ago to pursue a career in new york .\n",
      "Prediction     : jeg forlot oklahoma fem år siden for å forfølge en karriere i new york .\n",
      "Ground truth   : jeg forlot oklahoma for fem år siden for å satse på en karriere i new york .\n",
      "\n"
     ]
    }
   ],
   "source": [
    "test_cases = [\n",
    "    [\"i like trains .\", \"jeg liker tog .\"],\n",
    "    [\n",
    "        \"this is a problem we have to solve .\",\n",
    "        \"dette er et problem vi må løse .\",\n",
    "    ],\n",
    "    [\"let's travel to spain .\", \"la oss reise til spania .\"],\n",
    "    [\"my name is bond, james bond .\", \"navnet mitt er bond, james bond .\"],\n",
    "    [\"never judge a book by its cover .\", \"aldri døm en bok etter omslaget .\"],\n",
    "    [\n",
    "        \"my husband and I are both engineers .\",\n",
    "        \"mannen min og jeg er begge ingeniører .\",\n",
    "    ],\n",
    "    [\n",
    "        \"i left oklahoma five years ago to pursue a career in new york .\",\n",
    "        \"jeg forlot oklahoma for fem år siden for å satse på en karriere i new york .\",\n",
    "    ],\n",
    "]\n",
    "\n",
    "for sentence, ground_truth in test_cases:\n",
    "    translated_text = translator(tf.constant(sentence))\n",
    "    print_translation(sentence, translated_text, ground_truth)\n",
    "    print()"
   ]
  },
  {
   "cell_type": "code",
   "execution_count": 18,
   "id": "03f90c9c-6749-479c-b67b-07bd8c3dc5fe",
   "metadata": {},
   "outputs": [],
   "source": [
    "translator = ExportTranslator(translator)"
   ]
  },
  {
   "cell_type": "code",
   "execution_count": 20,
   "id": "deb2be5e-8430-4dd1-8853-491d2a9e53f8",
   "metadata": {},
   "outputs": [
    {
     "name": "stdout",
     "output_type": "stream",
     "text": [
      "INFO:tensorflow:Assets written to: translator/assets\n"
     ]
    },
    {
     "name": "stderr",
     "output_type": "stream",
     "text": [
      "INFO:tensorflow:Assets written to: translator/assets\n"
     ]
    }
   ],
   "source": [
    "tf.saved_model.save(translator, export_dir=config.TRANSLATOR_PATH)"
   ]
  },
  {
   "cell_type": "code",
   "execution_count": null,
   "id": "14878d8a-a649-4e19-a9a9-0ea89afa774b",
   "metadata": {},
   "outputs": [],
   "source": []
  }
 ],
 "metadata": {
  "kernelspec": {
   "display_name": "Python 3 (ipykernel)",
   "language": "python",
   "name": "python3"
  },
  "language_info": {
   "codemirror_mode": {
    "name": "ipython",
    "version": 3
   },
   "file_extension": ".py",
   "mimetype": "text/x-python",
   "name": "python",
   "nbconvert_exporter": "python",
   "pygments_lexer": "ipython3",
   "version": "3.10.13"
  },
  "toc": {
   "base_numbering": 1,
   "nav_menu": {},
   "number_sections": true,
   "sideBar": true,
   "skip_h1_title": false,
   "title_cell": "Table of Contents",
   "title_sidebar": "Contents",
   "toc_cell": false,
   "toc_position": {},
   "toc_section_display": true,
   "toc_window_display": false
  }
 },
 "nbformat": 4,
 "nbformat_minor": 5
}
