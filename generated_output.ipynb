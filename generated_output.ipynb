{
 "cells": [
  {
   "cell_type": "markdown",
   "id": "c7181cae-4ba1-4b11-81e8-0e66622b8f54",
   "metadata": {},
   "source": [
    "# Load GPT\n",
    "Load the GPT and sample some outputs."
   ]
  },
  {
   "cell_type": "code",
   "execution_count": 45,
   "id": "b7f300bb-15be-4912-953d-4ffd60164014",
   "metadata": {},
   "outputs": [],
   "source": [
    "import tensorflow as tf\n",
    "import tensorflow_text as text\n",
    "import config"
   ]
  },
  {
   "cell_type": "code",
   "execution_count": 46,
   "id": "0606c45e-d91f-4e3b-b34b-56999519809a",
   "metadata": {},
   "outputs": [],
   "source": [
    "gpt_model = tf.saved_model.load(config.GPT_PATH)\n",
    "\n",
    "\n",
    "class GPTWrapper:\n",
    "    def __init__(self, gpt_model):\n",
    "        self.gpt_model = gpt_model\n",
    "\n",
    "    def __call__(self, prompt: str, output_len: int = 100) -> str:\n",
    "        prompt = tf.convert_to_tensor([prompt], dtype=tf.dtypes.string)\n",
    "        output_len = tf.convert_to_tensor(output_len, dtype=tf.dtypes.int32)\n",
    "        output = self.gpt_model(prompt, output_len)\n",
    "        return output.numpy().decode(\"utf-8\")\n",
    "\n",
    "\n",
    "gpt = GPTWrapper(gpt_model)"
   ]
  },
  {
   "cell_type": "code",
   "execution_count": 53,
   "id": "cbede0c3-fb0f-4633-aaa6-590c35216141",
   "metadata": {},
   "outputs": [
    {
     "name": "stdout",
     "output_type": "stream",
     "text": [
      "JULIET :\n",
      "O Romeo , Romeo ! wherefore art thou Romeo ?\n",
      "No , faith I love thee , boy , but in loving soul ,\n",
      "My love as sovereign as myself , fair Montague .\n",
      "Thy honour is thy name , and thy meritate :\n",
      "For every thing thou dost me know , do me wrong ;\n",
      "What that , makest fruit weep , yea , from thy heart ,\n",
      "In thy nails , the father of thy love ,\n",
      "Answer the kings in love , the tables for her :\n",
      "And if he be a rule , then the a\n"
     ]
    }
   ],
   "source": [
    "prompt = \"JULIET:\\nO Romeo, Romeo! wherefore art thou Romeo?\"\n",
    "print(gpt(prompt))"
   ]
  },
  {
   "cell_type": "code",
   "execution_count": 56,
   "id": "4e22bf17-5258-4b1c-b31c-ce9864fdb5a3",
   "metadata": {},
   "outputs": [
    {
     "name": "stdout",
     "output_type": "stream",
     "text": [
      "HAMLET :\n",
      "To be , or not to be : that is the question : to\n",
      "speak on God , I was but read ; and your shape is\n",
      "too single for you , and pray for that .\n",
      "\n",
      "HORATIO :\n",
      "I am like dark as this is the bidding .\n",
      "\n",
      "MARCELLUS :\n",
      "My Lord of Spurrey , go to the king with him .\n",
      "\n",
      "BERNARDO :\n",
      "What , shall we part ?\n",
      "\n",
      "HORATIO :\n",
      "' Tis private , my lord ;\n",
      "For this same hour will come and hold our duty ,\n",
      "Which neither by imaginer hath \n"
     ]
    }
   ],
   "source": [
    "prompt = \"HAMLET:\\nTo be, or not to be: that is the question:\"\n",
    "print(gpt(prompt))"
   ]
  },
  {
   "cell_type": "code",
   "execution_count": 60,
   "id": "52edf54d-9fb9-4aff-84e9-437b0acb1ebe",
   "metadata": {},
   "outputs": [
    {
     "name": "stdout",
     "output_type": "stream",
     "text": [
      "KING HENRY V :\n",
      "Whiles did you love it ?\n",
      "\n",
      "PISTOL :\n",
      "Give him run .\n",
      "\n",
      "KING HENRY V :\n",
      "Fare you well .\n",
      "\n",
      "PISTOL :\n",
      "Thou art for a fox .\n",
      "\n",
      "KING HENRY V :\n",
      "I should be glad to see his heart at his foot .\n",
      "\n",
      "PISTOL :\n",
      "It will be candle ere he go , and keep his oath .\n",
      "\n",
      "KING HENRY V :\n",
      "You lie .\n",
      "\n",
      "PISTOL :\n",
      "Try - lief him , or I ' ll be with thee , or sa\n"
     ]
    }
   ],
   "source": [
    "print(gpt(\"KING HENRY V:\"))"
   ]
  },
  {
   "cell_type": "code",
   "execution_count": null,
   "id": "854c3e44-4062-43c8-b161-125170bc543c",
   "metadata": {},
   "outputs": [],
   "source": []
  }
 ],
 "metadata": {
  "kernelspec": {
   "display_name": "Python 3 (ipykernel)",
   "language": "python",
   "name": "python3"
  },
  "language_info": {
   "codemirror_mode": {
    "name": "ipython",
    "version": 3
   },
   "file_extension": ".py",
   "mimetype": "text/x-python",
   "name": "python",
   "nbconvert_exporter": "python",
   "pygments_lexer": "ipython3",
   "version": "3.10.13"
  },
  "toc": {
   "base_numbering": 1,
   "nav_menu": {},
   "number_sections": true,
   "sideBar": true,
   "skip_h1_title": false,
   "title_cell": "Table of Contents",
   "title_sidebar": "Contents",
   "toc_cell": false,
   "toc_position": {},
   "toc_section_display": true,
   "toc_window_display": false
  }
 },
 "nbformat": 4,
 "nbformat_minor": 5
}
